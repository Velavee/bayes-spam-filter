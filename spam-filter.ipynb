{
 "cells": [
  {
   "cell_type": "markdown",
   "id": "ed19cfc7",
   "metadata": {},
   "source": [
    "# Bayes Theorem for Predicting the Probability of an Email Being Spam\n",
    "\n",
    "S = Spam\n",
    "w = Word\n",
    "\n",
    "$P(Spam|w_{1}, w_{2},..., w_{n}) \\propto P(Spam) \\cdot \\prod_{i=1}^{n}P(w_{i}|Spam)$\n",
    "\n",
    "The probability that an email consisting of the words $w_{1}, w_{2},... w_{n}$ is proportional to the probability that any given email is spam multiplied by the product of each word's probability to appear in a spam email.\n",
    "\n"
   ]
  },
  {
   "cell_type": "markdown",
   "id": "42190751",
   "metadata": {},
   "source": [
    "## Step 1: Partition the data into training and test segments\n",
    "\n",
    "20% of the data for testing, and the remaining 80% is training (i.e. the 80% training data will confirm whether the 20% testing data labels are correct)."
   ]
  },
  {
   "cell_type": "markdown",
   "id": "f04e254a",
   "metadata": {},
   "source": [
    "## Step 2: Get probability that any one email in the training data is spam\n",
    "\n",
    "In the labelled dataset, count the number of spam and ham emails.\n",
    "\n",
    "$P(Spam) = \\frac{Spam\\,Emails}{Total\\,Emails}$"
   ]
  },
  {
   "cell_type": "markdown",
   "id": "421e43c9",
   "metadata": {},
   "source": [
    "## Step 3: Get the \"spamicity\" probability of each word in the testing data email\n",
    "\n",
    "**w** = word\n",
    "<br>**vocab** = total words in dataset\n",
    "<br>**spam_vocab**\n",
    "<br>**wi_spam_count**\n",
    "\n",
    "Count all unique words in the labelled dataset to get **vocab**.\n",
    "\n",
    "Count the total number of words in labelled spam emails (ignoring uniqueness) to get **spam_vocab**.\n",
    "\n",
    "For each word **w**, count all instances of the word in the spam emails to get **wi_spam_count**.\n",
    "\n",
    "Calculate spamicity of each word and store the word and its spamicity in a dictionary\n",
    "\n",
    "$P(w_{i}|Spam) = \\frac{wi\\_spam\\_count\\,+\\,\\alpha}{spam\\_vocab\\,+\\,\\alpha \\cdot vocab}$\n",
    "\n",
    "$\\alpha$ is a coefficient that prevents a probability from being 0.\n"
   ]
  },
  {
   "cell_type": "markdown",
   "id": "1ba26950",
   "metadata": {},
   "source": [
    "## Step 4: Calculate the \"spamicity\" of the email\n",
    "\n",
    "Multiply spamicities of each word together to get $\\prod_{i=1}^{n}P(w_{i}|Spam)$.\n",
    "\n",
    "Multiply that product by the probability that any email is spam."
   ]
  },
  {
   "cell_type": "markdown",
   "id": "02735361",
   "metadata": {},
   "source": [
    "## Step 5: Repeat steps 2-4 calculating the \"hamicity\" of each email"
   ]
  },
  {
   "cell_type": "markdown",
   "id": "091b4a5e",
   "metadata": {},
   "source": [
    "## Step 6: Label emails in test dataset and compare\n",
    "\n",
    "A probability greater then 0.5 will indicate whether an email is ham or spam."
   ]
  },
  {
   "cell_type": "code",
   "execution_count": null,
   "id": "8dee7290",
   "metadata": {},
   "outputs": [],
   "source": []
  }
 ],
 "metadata": {
  "kernelspec": {
   "display_name": "Python 3 (ipykernel)",
   "language": "python",
   "name": "python3"
  },
  "language_info": {
   "codemirror_mode": {
    "name": "ipython",
    "version": 3
   },
   "file_extension": ".py",
   "mimetype": "text/x-python",
   "name": "python",
   "nbconvert_exporter": "python",
   "pygments_lexer": "ipython3",
   "version": "3.9.13"
  }
 },
 "nbformat": 4,
 "nbformat_minor": 5
}
