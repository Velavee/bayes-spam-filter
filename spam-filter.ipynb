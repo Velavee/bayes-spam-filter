{
 "cells": [
  {
   "cell_type": "markdown",
   "id": "ed19cfc7",
   "metadata": {},
   "source": [
    "# Bayes Theorem for Predicting the Probability of an Email Being Spam\n",
    "\n",
    "S = Spam\n",
    "w = Word\n",
    "\n",
    "$P(Spam|w_{1}, w_{2},..., w_{n}) \\propto P(Spam) \\cdot \\prod_{i=1}^{n}P(w_{i}|Spam)$\n",
    "\n",
    "The probability that an email consisting of the words $w_{1}, w_{2},... w_{n}$ is proportional to the probability that any given email is spam multiplied by the product of each word's probability to appear in a spam email.\n",
    "\n"
   ]
  },
  {
   "cell_type": "code",
   "execution_count": 10,
   "id": "f68506f5",
   "metadata": {},
   "outputs": [],
   "source": [
    "from matplotlib import pyplot as plt\n",
    "\n",
    "import pandas as pd\n",
    "import math\n",
    "import time\n",
    "import matplotlib.pyplot as plt\n",
    "\n",
    "# NLTK Stop words\n",
    "from nltk.corpus import stopwords\n",
    "stop_words = stopwords.words('english')\n",
    "\n",
    "pd.options.mode.chained_assignment = None  # default='warn'\n",
    "\n",
    "PREDICTION = 'Prediction'\n",
    "CLASSIFICATION = 'Classiciation'"
   ]
  },
  {
   "cell_type": "markdown",
   "id": "89c127b8",
   "metadata": {},
   "source": [
    "## Functions"
   ]
  },
  {
   "cell_type": "code",
   "execution_count": 2,
   "id": "81159678",
   "metadata": {},
   "outputs": [],
   "source": [
    "def count_vocab(emails):\n",
    "    total_words = 0\n",
    "    \n",
    "    for index, row in emails.iterrows():\n",
    "        total_words += sum(row.values[1:-2])\n",
    "            \n",
    "    return total_words"
   ]
  },
  {
   "cell_type": "code",
   "execution_count": 3,
   "id": "8521603f",
   "metadata": {},
   "outputs": [],
   "source": [
    "def calculate_word_spamicity(w_spam_count, vocab, spam_vocab):\n",
    "    alpha = 1\n",
    "    \n",
    "    spamicity = (w_spam_count + alpha) / (spam_vocab + alpha * vocab)\n",
    "    return spamicity"
   ]
  },
  {
   "cell_type": "code",
   "execution_count": 4,
   "id": "2558e702",
   "metadata": {},
   "outputs": [],
   "source": [
    "def build_word_spamicity_dict(spam_emails, vocab, spam_vocab):\n",
    "    spam_word_appearances = {}\n",
    "    \n",
    "    for (column_name, column_data) in spam_emails.iteritems():\n",
    "        if column_name != 'Email No.' and column_name != PREDICTION and column_name != CLASSIFICATION:\n",
    "            spam_word_appearances[column_name] = sum(column_data.values)\n",
    "            \n",
    "    for word in spam_word_appearances:\n",
    "        spam_word_appearances[word] = calculate_word_spamicity(spam_word_appearances[word], vocab, spam_vocab)\n",
    "            \n",
    "    return spam_word_appearances"
   ]
  },
  {
   "cell_type": "code",
   "execution_count": 5,
   "id": "0b0da3a8",
   "metadata": {},
   "outputs": [],
   "source": [
    "def calculate_email(email, word_spamicities, word_hamicities, spam_proportion, ham_proportion, testing_data):\n",
    "    email_spamicity = math.log(spam_proportion)\n",
    "    email_hamicity = math.log(ham_proportion)\n",
    "    \n",
    "    for column in testing_data.columns[1:-2]:\n",
    "        if email[column] > 0:\n",
    "            email_spamicity += math.log(word_spamicities[column])*email[column]\n",
    "            email_hamicity += math.log(word_hamicities[column])*email[column]\n",
    "            \n",
    "    return 1 if email_spamicity >= email_hamicity else 0\n",
    "            "
   ]
  },
  {
   "cell_type": "code",
   "execution_count": 6,
   "id": "27112486",
   "metadata": {},
   "outputs": [],
   "source": [
    "def calculate_accuracy(testing_emails):\n",
    "    number_correct = 0\n",
    "    for index, email in testing_emails.iterrows():\n",
    "        if email[PREDICTION] == email[CLASSIFICATION]:\n",
    "            number_correct += 1\n",
    "        \n",
    "    return number_correct / testing_emails.shape[0] * 100"
   ]
  },
  {
   "cell_type": "code",
   "execution_count": 11,
   "id": "678dbfa6",
   "metadata": {},
   "outputs": [],
   "source": [
    "def run_model(data, include_stop_words=True):\n",
    "    end = 0\n",
    "    begin = 0\n",
    "    \n",
    "    score_total = 0\n",
    "    time_total = 0\n",
    "    \n",
    "    if include_stop_words:\n",
    "        # Take out all stopwords\n",
    "        for col in df.columns:\n",
    "            if col in stop_words:\n",
    "                data.drop(col, axis=1, inplace=True)\n",
    "                \n",
    "    results = {'accuracy': [], 'time_elapsed': []}\n",
    "\n",
    "    total_num_emails = data.shape[0]\n",
    "\n",
    "    # Subtract 2 for \"Email No.\" and \"Prediction\" columns\n",
    "    total_vocab = len(data.columns) - 2\n",
    "\n",
    "    partition_size = total_num_emails//5\n",
    "\n",
    "    for i in range(1,6):\n",
    "        start_time = time.time()\n",
    "        end += partition_size\n",
    "\n",
    "        if i == 1:\n",
    "            testing_data = data.iloc[begin:end].copy()\n",
    "            training_data = df.iloc[end:]\n",
    "        elif i == 5:\n",
    "            testing_data = data.iloc[begin:].copy()\n",
    "            training_data = df.iloc[:begin]\n",
    "        else:\n",
    "            testing_data = data.iloc[begin:end].copy()\n",
    "            training_data_sections = []\n",
    "            training_data_sections.append(data.iloc[:begin])\n",
    "            training_data_sections.append(data.iloc[end:])\n",
    "            training_data = pd.concat(training_data_sections)\n",
    "            \n",
    "        # This is where the model's prediction will be stored\n",
    "        testing_data[CLASSIFICATION] = \"\"\n",
    "\n",
    "        begin += partition_size\n",
    "\n",
    "        spam_proportion = training_data['Prediction'].value_counts()[1] / training_data.shape[0]\n",
    "        ham_proportion = training_data['Prediction'].value_counts()[0] / training_data.shape[0]\n",
    "\n",
    "        spam_training_emails = training_data.loc[training_data[PREDICTION] == 1]\n",
    "        total_spam_words = count_vocab(spam_training_emails)\n",
    "\n",
    "        ham_training_emails = training_data.loc[training_data[PREDICTION] == 0]\n",
    "        total_ham_words = count_vocab(ham_training_emails)\n",
    "\n",
    "        word_spamicities = build_word_spamicity_dict(spam_training_emails, total_vocab, total_spam_words)\n",
    "        word_hamicities = build_word_spamicity_dict(ham_training_emails, total_vocab, total_ham_words)\n",
    "\n",
    "        i = 0\n",
    "        for index, email in testing_data.iterrows():\n",
    "            testing_data[CLASSIFICATION].loc[testing_data.index[i]] = calculate_email(email, word_spamicities, word_hamicities, spam_proportion, ham_proportion, testing_data)\n",
    "            i += 1\n",
    "\n",
    "        score = calculate_accuracy(testing_data)\n",
    "        results['accuracy'].append(score)\n",
    "        \n",
    "        end_time = time.time()\n",
    "        elapsed_time = end_time - start_time\n",
    "        results['time_elapsed'].append(elapsed_time)\n",
    "        \n",
    "        score_total += score\n",
    "        time_total += elapsed_time\n",
    "\n",
    "    print(f'\\nAverage Accuracy: {score_total/5}%')\n",
    "    print(f'Average Time: {time_total/5}%')\n",
    "    return results"
   ]
  },
  {
   "cell_type": "markdown",
   "id": "f83be745",
   "metadata": {},
   "source": [
    "# Model"
   ]
  },
  {
   "cell_type": "markdown",
   "id": "42190751",
   "metadata": {},
   "source": [
    "## Step 1: Partition the data into training and test segments\n",
    "\n",
    "20% of the data for testing, and the remaining 80% is training (i.e. the 80% training data will confirm whether the 20% testing data labels are correct)."
   ]
  },
  {
   "cell_type": "code",
   "execution_count": 12,
   "id": "9645163d",
   "metadata": {},
   "outputs": [
    {
     "name": "stdout",
     "output_type": "stream",
     "text": [
      "STOP WORDS INCLUDED\n",
      "\n",
      "\n",
      "Average Accuracy: 94.06551757615587%\n",
      "Average Time: 12.625755262374877%\n"
     ]
    }
   ],
   "source": [
    "df = pd.read_csv('emails.csv')\n",
    "partition_names = ['part1', 'part2', 'part3', 'part4', 'part5']\n",
    "\n",
    "print('STOP WORDS INCLUDED\\n')\n",
    "with_stopwords_results = run_model(df, False)"
   ]
  },
  {
   "cell_type": "code",
   "execution_count": 13,
   "id": "6ea2d614",
   "metadata": {},
   "outputs": [
    {
     "data": {
      "text/html": [
       "<div>\n",
       "<style scoped>\n",
       "    .dataframe tbody tr th:only-of-type {\n",
       "        vertical-align: middle;\n",
       "    }\n",
       "\n",
       "    .dataframe tbody tr th {\n",
       "        vertical-align: top;\n",
       "    }\n",
       "\n",
       "    .dataframe thead th {\n",
       "        text-align: right;\n",
       "    }\n",
       "</style>\n",
       "<table border=\"1\" class=\"dataframe\">\n",
       "  <thead>\n",
       "    <tr style=\"text-align: right;\">\n",
       "      <th></th>\n",
       "      <th>accuracy</th>\n",
       "      <th>time_elapsed</th>\n",
       "      <th>with_stopwords</th>\n",
       "    </tr>\n",
       "  </thead>\n",
       "  <tbody>\n",
       "    <tr>\n",
       "      <th>part1</th>\n",
       "      <td>93.907157</td>\n",
       "      <td>12.214184</td>\n",
       "      <td>False</td>\n",
       "    </tr>\n",
       "    <tr>\n",
       "      <th>part2</th>\n",
       "      <td>96.518375</td>\n",
       "      <td>15.198252</td>\n",
       "      <td>False</td>\n",
       "    </tr>\n",
       "    <tr>\n",
       "      <th>part3</th>\n",
       "      <td>95.454545</td>\n",
       "      <td>11.993973</td>\n",
       "      <td>False</td>\n",
       "    </tr>\n",
       "    <tr>\n",
       "      <th>part4</th>\n",
       "      <td>93.810445</td>\n",
       "      <td>11.986075</td>\n",
       "      <td>False</td>\n",
       "    </tr>\n",
       "    <tr>\n",
       "      <th>part5</th>\n",
       "      <td>90.637066</td>\n",
       "      <td>11.736292</td>\n",
       "      <td>False</td>\n",
       "    </tr>\n",
       "  </tbody>\n",
       "</table>\n",
       "</div>"
      ],
      "text/plain": [
       "        accuracy  time_elapsed  with_stopwords\n",
       "part1  93.907157     12.214184           False\n",
       "part2  96.518375     15.198252           False\n",
       "part3  95.454545     11.993973           False\n",
       "part4  93.810445     11.986075           False\n",
       "part5  90.637066     11.736292           False"
      ]
     },
     "execution_count": 13,
     "metadata": {},
     "output_type": "execute_result"
    }
   ],
   "source": [
    "with_stopwords_results_table = pd.DataFrame(data = with_stopwords_results)\n",
    "with_stopwords_results_table.index = partition_names\n",
    "with_stopwords_results_table['with_stopwords'] = [False, False, False, False, False]\n",
    "with_stopwords_results_table"
   ]
  },
  {
   "cell_type": "code",
   "execution_count": 14,
   "id": "78f99e32",
   "metadata": {},
   "outputs": [
    {
     "name": "stdout",
     "output_type": "stream",
     "text": [
      "STOP WORDS NOT INCLUDED\n",
      "\n",
      "\n",
      "Average Accuracy: 94.06551757615587%\n",
      "Average Time: 11.796200942993163%\n"
     ]
    }
   ],
   "source": [
    "print('STOP WORDS NOT INCLUDED\\n')\n",
    "without_stopwords_results = run_model(df, False)\n"
   ]
  },
  {
   "cell_type": "code",
   "execution_count": 15,
   "id": "2dbe8255",
   "metadata": {
    "scrolled": true
   },
   "outputs": [
    {
     "data": {
      "text/html": [
       "<div>\n",
       "<style scoped>\n",
       "    .dataframe tbody tr th:only-of-type {\n",
       "        vertical-align: middle;\n",
       "    }\n",
       "\n",
       "    .dataframe tbody tr th {\n",
       "        vertical-align: top;\n",
       "    }\n",
       "\n",
       "    .dataframe thead th {\n",
       "        text-align: right;\n",
       "    }\n",
       "</style>\n",
       "<table border=\"1\" class=\"dataframe\">\n",
       "  <thead>\n",
       "    <tr style=\"text-align: right;\">\n",
       "      <th></th>\n",
       "      <th>accuracy</th>\n",
       "      <th>time_elapsed</th>\n",
       "      <th>with_stopwords</th>\n",
       "    </tr>\n",
       "  </thead>\n",
       "  <tbody>\n",
       "    <tr>\n",
       "      <th>part1</th>\n",
       "      <td>93.907157</td>\n",
       "      <td>11.772979</td>\n",
       "      <td>True</td>\n",
       "    </tr>\n",
       "    <tr>\n",
       "      <th>part2</th>\n",
       "      <td>96.518375</td>\n",
       "      <td>11.764146</td>\n",
       "      <td>True</td>\n",
       "    </tr>\n",
       "    <tr>\n",
       "      <th>part3</th>\n",
       "      <td>95.454545</td>\n",
       "      <td>11.599099</td>\n",
       "      <td>True</td>\n",
       "    </tr>\n",
       "    <tr>\n",
       "      <th>part4</th>\n",
       "      <td>93.810445</td>\n",
       "      <td>11.619838</td>\n",
       "      <td>True</td>\n",
       "    </tr>\n",
       "    <tr>\n",
       "      <th>part5</th>\n",
       "      <td>90.637066</td>\n",
       "      <td>12.224943</td>\n",
       "      <td>True</td>\n",
       "    </tr>\n",
       "  </tbody>\n",
       "</table>\n",
       "</div>"
      ],
      "text/plain": [
       "        accuracy  time_elapsed  with_stopwords\n",
       "part1  93.907157     11.772979            True\n",
       "part2  96.518375     11.764146            True\n",
       "part3  95.454545     11.599099            True\n",
       "part4  93.810445     11.619838            True\n",
       "part5  90.637066     12.224943            True"
      ]
     },
     "execution_count": 15,
     "metadata": {},
     "output_type": "execute_result"
    }
   ],
   "source": [
    "without_stopwords_results_table = pd.DataFrame(data = without_stopwords_results)\n",
    "without_stopwords_results_table.index = partition_names\n",
    "without_stopwords_results_table['with_stopwords'] = [True, True, True, True, True]\n",
    "without_stopwords_results_table"
   ]
  },
  {
   "cell_type": "code",
   "execution_count": 26,
   "id": "a089d5e1",
   "metadata": {},
   "outputs": [
    {
     "data": {
      "image/png": "[encoded data removed]",
      "text/plain": [
       "<Figure size 640x480 with 1 Axes>"
      ]
     },
     "metadata": {},
     "output_type": "display_data"
    },
    {
     "data": {
      "image/png": "[encoded data removed]",
      "text/plain": [
       "<Figure size 640x480 with 1 Axes>"
      ]
     },
     "metadata": {},
     "output_type": "display_data"
    }
   ],
   "source": [
    "all_results = pd.concat([with_stopwords_results_table, without_stopwords_results_table])\n",
    "\n",
    "# groupby bat_team and get mean of runs\n",
    "dfg = all_results.groupby('with_stopwords')\n",
    "\n",
    "# plot the groupby result\n",
    "dfg.plot(x='with_stopwords', y='accuracy',kind='bar')\n",
    "plt.show()"
   ]
  },
  {
   "cell_type": "markdown",
   "id": "f04e254a",
   "metadata": {},
   "source": [
    "## Step 2: Get probabilities that any one email in the training data is either spam or ham\n",
    "\n",
    "In the labelled dataset, count the number of spam and ham emails.\n",
    "\n",
    "$P(Spam) = \\frac{Spam\\,Emails}{Total\\,Emails}$"
   ]
  },
  {
   "cell_type": "markdown",
   "id": "76bca9ca",
   "metadata": {},
   "source": [
    "$P(Ham) = \\frac{Ham\\,Emails}{Total\\,Emails}$"
   ]
  },
  {
   "cell_type": "markdown",
   "id": "421e43c9",
   "metadata": {},
   "source": [
    "## Step 3: Get the \"spamicity\" and \"hamicity\" probability of each word in the testing data email\n",
    "\n",
    "**w** = word\n",
    "<br>**vocab** = total words in dataset\n",
    "<br>**spam_vocab**\n",
    "<br>**wi_spam_count**\n",
    "\n",
    "Count all unique words in the labelled dataset to get **vocab**.\n",
    "\n",
    "Count the total number of words in labelled spam emails (ignoring uniqueness) to get **spam_vocab**.\n",
    "\n",
    "For each word **w**, count all instances of the word in the spam emails to get **wi_spam_count**.\n",
    "\n",
    "Calculate spamicity of each word and store the word and its spamicity in a dictionary\n",
    "\n",
    "$P(w_{i}|Spam) = \\frac{wi\\_spam\\_count\\,+\\,\\alpha}{spam\\_vocab\\,+\\,\\alpha \\cdot vocab}$\n",
    "\n",
    "$\\alpha$ is a coefficient that prevents a probability from being 0.\n"
   ]
  },
  {
   "cell_type": "markdown",
   "id": "1ba26950",
   "metadata": {},
   "source": [
    "## Step 4: Calculate the \"spamicity\" and \"hamicity\" of each email\n",
    "\n",
    "Multiply spamicities of each word together to get $\\prod_{i=1}^{n}P(w_{i}|Spam)$.\n",
    "\n",
    "Multiply that product by the probability that any email is spam."
   ]
  },
  {
   "cell_type": "markdown",
   "id": "98189d84",
   "metadata": {},
   "source": [
    "## Step 5: Compare hamicity and spamicity scores to classify emails"
   ]
  },
  {
   "cell_type": "markdown",
   "id": "728084db",
   "metadata": {},
   "source": [
    "## Step 6: Check accuracy of the model"
   ]
  }
 ],
 "metadata": {
  "kernelspec": {
   "display_name": "Python 3 (ipykernel)",
   "language": "python",
   "name": "python3"
  },
  "language_info": {
   "codemirror_mode": {
    "name": "ipython",
    "version": 3
   },
   "file_extension": ".py",
   "mimetype": "text/x-python",
   "name": "python",
   "nbconvert_exporter": "python",
   "pygments_lexer": "ipython3",
   "version": "3.9.13"
  }
 },
 "nbformat": 4,
 "nbformat_minor": 5
}
